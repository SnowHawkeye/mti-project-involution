{
  "cells": [
    {
      "cell_type": "markdown",
      "metadata": {
        "id": "LWJ_fNhTz3nI"
      },
      "source": [
        "# Experimentations\n",
        "## [TITLE FOR YOUR EXPERIMENTS]"
      ]
    },
    {
      "cell_type": "markdown",
      "metadata": {
        "id": "FgY72nBPz3nL"
      },
      "source": [
        "## Instructions\n",
        "\n",
        "- Create and checkout a branch for your work (`git checkout -b YOUR_BRANCH_NAME`)\n",
        "- Create a copy of this template and name it however you want (e.g. `YOUR_NAME.ipynb`).\n",
        "- Change the title according to what scenario you are testing.\n",
        "- In the \"involution\" part, replace the existing model with the relevant model.\n",
        "- Create as many cells as you deem necessary for the experiments (explain your use case, comparison with convolution or other networks, results, etc.).\n",
        "- Remove this cell and every \"TODO\" comment.\n",
        "- When you are done, commit your changes. Make sure you are only committing changes on the file you created! (you can check with `git status`)\n",
        "- Push your changes on the repo (`git push --set-upstream origin YOUR_BRANCH_NAME`).\n",
        "- Create a pull request to the `main` branch so that everyone can read your code before we merge it."
      ]
    },
    {
      "cell_type": "code",
      "execution_count": 14,
      "metadata": {
        "id": "yTDLzdG2z3nN"
      },
      "outputs": [],
      "source": [
        "\n",
        "import os\n",
        "import numpy as np\n",
        "import pandas as pd\n",
        "import tensorflow as tf\n",
        "import matplotlib.pyplot as plt\n",
        "\n",
        "#from involution import Involution"
      ]
    },
    {
      "cell_type": "markdown",
      "metadata": {
        "id": "1JYK8xYQ1a1T"
      },
      "source": [
        "## Dataset import"
      ]
    },
    {
      "cell_type": "code",
      "execution_count": null,
      "metadata": {
        "id": "ohN74CGI2grf"
      },
      "outputs": [],
      "source": [
        "from google.colab import drive\n",
        "\n",
        "import os"
      ]
    },
    {
      "cell_type": "code",
      "execution_count": null,
      "metadata": {
        "colab": {
          "background_save": true
        },
        "id": "xuv0QJev1aKX"
      },
      "outputs": [],
      "source": [
        "from google.colab import drive\n",
        "\n",
        "#Mounting the drive\n",
        "drive.mount('/content/gdrive')\n",
        "\n",
        "#Setting kaggle configuration directory\n",
        "os.environ['KAGGLE_CONFIG_DIR'] = \"/content/gdrive/My Drive/Kaggle\"\n",
        "\n",
        "%cd /content/gdrive/My Drive/Kaggle\n",
        "#Downloading and unzip dataset\n",
        "\n",
        "!kaggle datasets download -d moltean/fruits\n",
        "!unzip \\*.zip && rm *.zip"
      ]
    },
    {
      "cell_type": "code",
      "execution_count": null,
      "metadata": {
        "id": "RXAOZhRt3O7k"
      },
      "outputs": [],
      "source": [
        "#Setting Training & Test dir paths\n",
        "path_train = \"/content/gdrive/MyDrive/Kaggle/fruits-360_dataset/fruits-360/Training/\"\n",
        "path_test = \"/content/gdrive/MyDrive/Kaggle/fruits-360_dataset/fruits-360/Test/\"\n",
        "\n",
        "labels = pd.Series(os.listdir(path_test))\n",
        "\n",
        "labels = labels.sort_values()\n",
        "labels = labels.to_list()\n",
        "\n",
        "labels"
      ]
    },
    {
      "cell_type": "code",
      "source": [
        "def get_data(path):\n",
        "  \"\"\"This function will be used to import dataset\"\"\"\n",
        "  data = []\n",
        "  for label in labels:\n",
        "    label_path = os.path.join(path,label)\n",
        "    class_num = labels.index(label)\n",
        "    for img in os.listdir(label_path):\n",
        "      an_image = plt.imread(os.path.join(label_path, img))\n",
        "      data.append([an_image, class_num])\n",
        "  return np.array(data)\n"
      ],
      "metadata": {
        "id": "wLuNvEwA-Kfm"
      },
      "execution_count": 23,
      "outputs": []
    },
    {
      "cell_type": "code",
      "source": [
        "data_train = get_data(path_train)"
      ],
      "metadata": {
        "colab": {
          "base_uri": "https://localhost:8080/"
        },
        "id": "IhTGl3XBBRHG",
        "outputId": "60ea9b2e-f15d-432f-b4d1-4480a323eae9"
      },
      "execution_count": 25,
      "outputs": [
        {
          "output_type": "stream",
          "name": "stderr",
          "text": [
            "/usr/local/lib/python3.7/dist-packages/ipykernel_launcher.py:9: VisibleDeprecationWarning: Creating an ndarray from ragged nested sequences (which is a list-or-tuple of lists-or-tuples-or ndarrays with different lengths or shapes) is deprecated. If you meant to do this, you must specify 'dtype=object' when creating the ndarray\n",
            "  if __name__ == '__main__':\n"
          ]
        }
      ]
    },
    {
      "cell_type": "code",
      "source": [
        "#image_ = plt.imread(data_train[10][0])\n",
        "\n",
        "n = len(data_train)\n",
        "\n",
        "i = np.random.randint(n)\n",
        "\n",
        "plt.imshow(data_train[i][0])\n",
        "\n"
      ],
      "metadata": {
        "colab": {
          "base_uri": "https://localhost:8080/",
          "height": 285
        },
        "id": "54uSn_yACqcg",
        "outputId": "da6180e8-5d6c-4570-b76d-dbf381116e30"
      },
      "execution_count": 49,
      "outputs": [
        {
          "output_type": "execute_result",
          "data": {
            "text/plain": [
              "<matplotlib.image.AxesImage at 0x7f22cab30510>"
            ]
          },
          "metadata": {},
          "execution_count": 49
        },
        {
          "output_type": "display_data",
          "data": {
            "image/png": "[encoded data removed]",
            "text/plain": [
              "<Figure size 432x288 with 1 Axes>"
            ]
          },
          "metadata": {
            "needs_background": "light"
          }
        }
      ]
    },
    {
      "cell_type": "code",
      "source": [
        ""
      ],
      "metadata": {
        "id": "I2cOOPSJBwn5"
      },
      "execution_count": null,
      "outputs": []
    },
    {
      "cell_type": "markdown",
      "metadata": {
        "id": "jDimDkmoz3nP"
      },
      "source": [
        "## Involution"
      ]
    },
    {
      "cell_type": "code",
      "execution_count": null,
      "metadata": {
        "id": "bmjdOWeAz3nQ"
      },
      "outputs": [],
      "source": [
        "# TODO: Replace this with your model\n",
        "\n",
        "involution_model = tf.keras.models.Sequential([\n",
        "    Involution(channel=3,group_number=1,kernel_size=3,stride=1,reduction_ratio=2),\n",
        "    tf.keras.layers.ReLU(name=\"relu1\"),\n",
        "    tf.keras.layers.MaxPooling2D((2, 2)),\n",
        "    Involution(channel=3,group_number=1,kernel_size=3,stride=1,reduction_ratio=2),\n",
        "    tf.keras.layers.ReLU(name=\"relu2\"),\n",
        "    tf.keras.layers.MaxPooling2D((2, 2)),\n",
        "    Involution(channel=3,group_number=1,kernel_size=3,stride=1,reduction_ratio=2),\n",
        "    tf.keras.layers.ReLU(name=\"relu3\"),\n",
        "    tf.keras.layers.Flatten(),\n",
        "    tf.keras.layers.Dense(64, activation='relu'),\n",
        "    tf.keras.layers.Dense(10),\n",
        "])\n",
        "\n",
        "involution_model.compile(\n",
        "    optimizer='adam',\n",
        "    loss=tf.keras.losses.SparseCategoricalCrossentropy(from_logits=True),\n",
        "    metrics=['accuracy']\n",
        ")\n"
      ]
    },
    {
      "cell_type": "code",
      "execution_count": null,
      "metadata": {
        "id": "imevxPffz3nS"
      },
      "outputs": [],
      "source": [
        "# TODO: Train your model"
      ]
    },
    {
      "cell_type": "code",
      "execution_count": null,
      "metadata": {
        "id": "FS7Gs8iQz3nT"
      },
      "outputs": [],
      "source": [
        "# Uncomment after the model has been trained to see the layers\n",
        "# involution_model.summary()"
      ]
    },
    {
      "cell_type": "code",
      "execution_count": null,
      "metadata": {
        "id": "yt-NOsBDz3nU"
      },
      "outputs": [],
      "source": [
        "# TODO: your code, models and experiments here\n",
        "# The experiments should at least compare:\n",
        "# - Accuracy\n",
        "# - Number of parameters of the model\n",
        "# - Training time (relative difference, precise the setup)"
      ]
    }
  ],
  "metadata": {
    "accelerator": "GPU",
    "colab": {
      "name": "experiment_toto.ipynb",
      "provenance": [],
      "collapsed_sections": []
    },
    "interpreter": {
      "hash": "34ff3397c474938b265d2f4b45024e5465249fab18e07736c9a068b37b408800"
    },
    "kernelspec": {
      "display_name": "Python 3.8.12 64-bit ('python-all': conda)",
      "language": "python",
      "name": "python3"
    },
    "language_info": {
      "codemirror_mode": {
        "name": "ipython",
        "version": 3
      },
      "file_extension": ".py",
      "mimetype": "text/x-python",
      "name": "python",
      "nbconvert_exporter": "python",
      "pygments_lexer": "ipython3",
      "version": "3.8.12"
    }
  },
  "nbformat": 4,
  "nbformat_minor": 0
}